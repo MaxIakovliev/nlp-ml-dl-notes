{
 "cells": [
  {
   "cell_type": "code",
   "execution_count": 48,
   "metadata": {},
   "outputs": [
    {
     "name": "stdout",
     "output_type": "stream",
     "text": [
      "[[19 'female' 27.9 0 'yes' 'southwest']\n",
      " [18 'male' 33.77 1 'no' 'southeast']\n",
      " [28 'male' 33.0 3 'no' 'southeast']\n",
      " ...\n",
      " [18 'female' 36.85 0 'no' 'southeast']\n",
      " [21 'female' 25.8 0 'no' 'southwest']\n",
      " [61 'female' 29.07 0 'yes' 'northwest']]\n"
     ]
    }
   ],
   "source": [
    "# Importing the libraries\n",
    "import pandas as pd\n",
    "\n",
    "# Importing the dataset\n",
    "dataset = pd.read_csv('datasets\\insurance.csv')\n",
    "X = dataset.iloc[:, :-1].values\n",
    "y = dataset.iloc[:, 3].values\n",
    "print(X)"
   ]
  },
  {
   "cell_type": "code",
   "execution_count": 49,
   "metadata": {},
   "outputs": [
    {
     "name": "stdout",
     "output_type": "stream",
     "text": [
      "0.0, 0.0, 0.0, 1.0, 0.0, 1.0, 1.0, 0.0, 19, 27.9, 0\n",
      "0.0, 0.0, 1.0, 0.0, 1.0, 0.0, 0.0, 1.0, 18, 33.77, 1\n",
      "0.0, 0.0, 1.0, 0.0, 1.0, 0.0, 0.0, 1.0, 28, 33.0, 3\n"
     ]
    }
   ],
   "source": [
    "# Encoding categorical data\n",
    "# Encoding the Independent Variable\n",
    "from sklearn.preprocessing import LabelEncoder, OneHotEncoder\n",
    "from sklearn.compose import ColumnTransformer\n",
    "labelencoder_X = LabelEncoder()\n",
    "\n",
    "ct = ColumnTransformer([(\"Gender\", OneHotEncoder(), [1])], remainder = 'passthrough')\n",
    "X = ct.fit_transform(X)\n",
    "\n",
    "ct = ColumnTransformer([(\"IsChild\", OneHotEncoder(), [5])], remainder = 'passthrough')\n",
    "X = ct.fit_transform(X)\n",
    "\n",
    "ct = ColumnTransformer([(\"IsChild\", OneHotEncoder(), [7])], remainder = 'passthrough')\n",
    "X = ct.fit_transform(X)\n",
    "\n",
    "res=\"\"\n",
    "count=0\n",
    "for x in X:\n",
    "    for item in x:\n",
    "        res+=f\"{item}, \"\n",
    "    print(res[0:len(res)-2])\n",
    "    res=\"\"\n",
    "    if count==2:\n",
    "        break\n",
    "    count+=1\n"
   ]
  },
  {
   "cell_type": "code",
   "execution_count": null,
   "metadata": {},
   "outputs": [],
   "source": []
  }
 ],
 "metadata": {
  "kernelspec": {
   "display_name": "Python 3",
   "language": "python",
   "name": "python3"
  },
  "language_info": {
   "codemirror_mode": {
    "name": "ipython",
    "version": 3
   },
   "file_extension": ".py",
   "mimetype": "text/x-python",
   "name": "python",
   "nbconvert_exporter": "python",
   "pygments_lexer": "ipython3",
   "version": "3.6.4"
  }
 },
 "nbformat": 4,
 "nbformat_minor": 2
}
